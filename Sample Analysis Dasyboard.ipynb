{
 "cells": [
  {
   "cell_type": "markdown",
   "metadata": {},
   "source": [
    "# Sample Analysis Dasyboard"
   ]
  },
  {
   "cell_type": "code",
   "execution_count": 81,
   "metadata": {},
   "outputs": [
    {
     "data": {
      "text/plain": [
       "['config.cfg']"
      ]
     },
     "execution_count": 81,
     "metadata": {},
     "output_type": "execute_result"
    }
   ],
   "source": [
    "import pandas as pd\n",
    "import psycopg2, configparser\n",
    "import matplotlib.pyplot as plt\n",
    "\n",
    "pd.set_option('display.max_colwidth', -1)\n",
    "\n",
    "# Configuration\n",
    "config = configparser.ConfigParser()\n",
    "config.read('config.cfg')"
   ]
  },
  {
   "cell_type": "code",
   "execution_count": null,
   "metadata": {},
   "outputs": [],
   "source": [
    "# Redshift connection setup\n",
    "conn = psycopg2.connect(\"host={} dbname={} user={} password={} port={}\".format(*config['CLUSTER'].values()))"
   ]
  },
  {
   "cell_type": "code",
   "execution_count": 71,
   "metadata": {},
   "outputs": [],
   "source": [
    "business_id = 'u_vPjx925UPEG9DFOAAvFQ'"
   ]
  },
  {
   "cell_type": "markdown",
   "metadata": {},
   "source": [
    "## Rating"
   ]
  },
  {
   "cell_type": "code",
   "execution_count": 9,
   "metadata": {},
   "outputs": [
    {
     "name": "stdout",
     "output_type": "stream",
     "text": [
      "Average rating: 3.43478260869565\n"
     ]
    }
   ],
   "source": [
    "try:    \n",
    "    with conn.cursor() as cur:\n",
    "        cur.execute(\"\"\"\n",
    "        select avg(stars)\n",
    "        from review\n",
    "        where business_id = '{}'\n",
    "        \"\"\".format(business_id))\n",
    "\n",
    "        print(\"Average rating: {}\".format(cur.fetchone()[0]))\n",
    "except Exception as err:\n",
    "    print(\"Error: \", err)\n",
    "    conn.rollback()"
   ]
  },
  {
   "cell_type": "markdown",
   "metadata": {},
   "source": [
    "## Review count"
   ]
  },
  {
   "cell_type": "code",
   "execution_count": 72,
   "metadata": {},
   "outputs": [],
   "source": [
    "try:    \n",
    "    with conn.cursor() as cur:\n",
    "        cur.execute(\"\"\"\n",
    "        select \n",
    "        EXTRACT(year from date) as year, \n",
    "        EXTRACT(month from date) as month,\n",
    "        count(*)\n",
    "        from review\n",
    "        where business_id = '{}'\n",
    "        group by year, month\n",
    "        order by year desc, month desc\n",
    "        limit 10\n",
    "        \"\"\".format(business_id))\n",
    "        \n",
    "        data = cur.fetchall()\n",
    "        data.reverse()\n",
    "        \n",
    "        times = [f\"{str(row[0])}/{str(row[1])}\" for row in data]\n",
    "        counts = [row[2] for row in data]\n",
    "                \n",
    "        df = pd.DataFrame(\n",
    "            [[f\"{str(row[0])}/{str(row[1])}\", row[2]] for row in data],\n",
    "            columns = ['time', 'count'])\n",
    "        \n",
    "except Exception as err:\n",
    "    print(\"Error: \", err)\n",
    "    conn.rollback()"
   ]
  },
  {
   "cell_type": "code",
   "execution_count": 73,
   "metadata": {},
   "outputs": [
    {
     "data": {
      "text/plain": [
       "<matplotlib.axes._subplots.AxesSubplot at 0x7f602c961860>"
      ]
     },
     "execution_count": 73,
     "metadata": {},
     "output_type": "execute_result"
    },
    {
     "data": {
      "image/png": "[encoded data removed]",
      "text/plain": [
       "<matplotlib.figure.Figure at 0x7f602c325a58>"
      ]
     },
     "metadata": {
      "needs_background": "light"
     },
     "output_type": "display_data"
    }
   ],
   "source": [
    "df.plot(kind='bar',x='time',y='count')"
   ]
  },
  {
   "cell_type": "markdown",
   "metadata": {},
   "source": [
    "## Review count from Yelp Elite and their friends"
   ]
  },
  {
   "cell_type": "code",
   "execution_count": 76,
   "metadata": {},
   "outputs": [],
   "source": [
    "try:    \n",
    "    with conn.cursor() as cur:\n",
    "        cur.execute(\"\"\"\n",
    "        select \n",
    "        EXTRACT(year from date) as year, \n",
    "        EXTRACT(month from date) as month,\n",
    "        count(*)\n",
    "        from review r\n",
    "        where r.business_id = '{}'\n",
    "        and exists (select 1 \n",
    "                    from yelp_user_elite yue \n",
    "                    where r.user_id = yue.user_id and yue.year = 2018)\n",
    "        and exists (select 1 \n",
    "                    from yelp_user_elite yue\n",
    "                    inner join yelp_user_friend yuf on yue.user_id = yuf.user_id\n",
    "                    where r.user_id = yuf.friend_id and yue.year = 2018)\n",
    "        group by year, month\n",
    "        order by year desc, month desc\n",
    "        limit 10\n",
    "        \"\"\".format(business_id))\n",
    "        \n",
    "        data = cur.fetchall()\n",
    "        data.reverse()\n",
    "        \n",
    "        times = [f\"{str(row[0])}/{str(row[1])}\" for row in data]\n",
    "        counts = [row[2] for row in data]\n",
    "                \n",
    "        df = pd.DataFrame(\n",
    "            [[f\"{str(row[0])}/{str(row[1])}\", row[2]] for row in data],\n",
    "            columns = ['time', 'count'])\n",
    "        \n",
    "except Exception as err:\n",
    "    print(\"Error: \", err)\n",
    "    conn.rollback()"
   ]
  },
  {
   "cell_type": "code",
   "execution_count": 77,
   "metadata": {},
   "outputs": [
    {
     "data": {
      "text/plain": [
       "<matplotlib.axes._subplots.AxesSubplot at 0x7f602c353198>"
      ]
     },
     "execution_count": 77,
     "metadata": {},
     "output_type": "execute_result"
    },
    {
     "data": {
      "image/png": "[encoded data removed]",
      "text/plain": [
       "<matplotlib.figure.Figure at 0x7f602c325d68>"
      ]
     },
     "metadata": {
      "needs_background": "light"
     },
     "output_type": "display_data"
    }
   ],
   "source": [
    "df.plot(kind='bar',x='time',y='count')"
   ]
  },
  {
   "cell_type": "markdown",
   "metadata": {},
   "source": [
    "## Checkin count"
   ]
  },
  {
   "cell_type": "code",
   "execution_count": 74,
   "metadata": {},
   "outputs": [],
   "source": [
    "try:    \n",
    "    with conn.cursor() as cur:\n",
    "        cur.execute(\"\"\"\n",
    "        select \n",
    "        EXTRACT(year from date) as year, \n",
    "        EXTRACT(month from date) as month,\n",
    "        count(*)\n",
    "        from checkin\n",
    "        where business_id = '{}'\n",
    "        group by year, month\n",
    "        order by year desc, month desc\n",
    "        limit 10\n",
    "        \"\"\".format(business_id))\n",
    "        \n",
    "        data = cur.fetchall()\n",
    "        data.reverse()\n",
    "        \n",
    "        times = [f\"{str(row[0])}/{str(row[1])}\" for row in data]\n",
    "        counts = [row[2] for row in data]\n",
    "                \n",
    "        df = pd.DataFrame(\n",
    "            [[f\"{str(row[0])}/{str(row[1])}\", row[2]] for row in data],\n",
    "            columns = ['time', 'count'])\n",
    "        \n",
    "except Exception as err:\n",
    "    print(\"Error: \", err)\n",
    "    conn.rollback()"
   ]
  },
  {
   "cell_type": "code",
   "execution_count": 75,
   "metadata": {},
   "outputs": [
    {
     "data": {
      "text/plain": [
       "<matplotlib.axes._subplots.AxesSubplot at 0x7f602c2aefd0>"
      ]
     },
     "execution_count": 75,
     "metadata": {},
     "output_type": "execute_result"
    },
    {
     "data": {
      "image/png": "[encoded data removed]",
      "text/plain": [
       "<matplotlib.figure.Figure at 0x7f602c34aac8>"
      ]
     },
     "metadata": {
      "needs_background": "light"
     },
     "output_type": "display_data"
    }
   ],
   "source": [
    "df.plot(kind='bar',x='time',y='count')"
   ]
  },
  {
   "cell_type": "markdown",
   "metadata": {},
   "source": [
    "## Recent reviews"
   ]
  },
  {
   "cell_type": "code",
   "execution_count": 83,
   "metadata": {},
   "outputs": [],
   "source": [
    "try:    \n",
    "    with conn.cursor() as cur:\n",
    "        cur.execute(\"\"\"\n",
    "        select review_id, date, stars, text\n",
    "        from review\n",
    "        where business_id = '{}'\n",
    "        order by date desc\n",
    "        limit 5\n",
    "        \"\"\".format(business_id))\n",
    "                        \n",
    "        df = pd.DataFrame(cur.fetchall(),\n",
    "            columns = ['review_id', 'date', 'stars', 'text'])\n",
    "        \n",
    "except Exception as err:\n",
    "    print(\"Error: \", err)\n",
    "    conn.rollback()"
   ]
  },
  {
   "cell_type": "code",
   "execution_count": 84,
   "metadata": {},
   "outputs": [
    {
     "data": {
      "text/html": [
       "<div>\n",
       "<style scoped>\n",
       "    .dataframe tbody tr th:only-of-type {\n",
       "        vertical-align: middle;\n",
       "    }\n",
       "\n",
       "    .dataframe tbody tr th {\n",
       "        vertical-align: top;\n",
       "    }\n",
       "\n",
       "    .dataframe thead th {\n",
       "        text-align: right;\n",
       "    }\n",
       "</style>\n",
       "<table border=\"1\" class=\"dataframe\">\n",
       "  <thead>\n",
       "    <tr style=\"text-align: right;\">\n",
       "      <th></th>\n",
       "      <th>review_id</th>\n",
       "      <th>date</th>\n",
       "      <th>stars</th>\n",
       "      <th>text</th>\n",
       "    </tr>\n",
       "  </thead>\n",
       "  <tbody>\n",
       "    <tr>\n",
       "      <th>0</th>\n",
       "      <td>GNB1BM1nTsGaaaMyYAaIug</td>\n",
       "      <td>2018-11-14 00:18:42</td>\n",
       "      <td>3.0</td>\n",
       "      <td>stayed here for 3 nights in one of their updated rooms.  i would give it a 5 for the view from our room.  we had a perfect view of the bellagio fountains.  the curtains in the room were really nice. they kept out all of the light and were controlled by switches next to the bed.  the room also had a nice size tv in front of the bed and another in the mirror in the bathroom. which we thought was interesting.  i liked the room cause we couldn't hear people in the hallway. \\n\\nthe room was not very clean when we arrived and it seemed like people left in a hurry.  the closet and drawers on the desk were left open.  the trash was not emptied. \\n\\nwe spent a lot of our time at the flamgino's day club at the pool.  you could get in for free with your room key. it was a ton of fun and they played great music.</td>\n",
       "    </tr>\n",
       "    <tr>\n",
       "      <th>1</th>\n",
       "      <td>OGrvQuS75fkiANviAplp0A</td>\n",
       "      <td>2018-11-13 23:30:44</td>\n",
       "      <td>5.0</td>\n",
       "      <td>yes, the lobby is old and even the slot machines and games but for the price, then don't complain. i got the renovated rooms with strip view on the 22nd floor (habitat elevator). it was good having a guard/security before you go up the elevator at midnight to show your keycard that made me feel safe knowing that no random people can come up and knock on your door.. whew. i love the rooms, it was clean, the bathrooms have shampoo,conditioner, bodywash, lotion attached to the wall. no problems with the hot/cold water. it has a refrigerator which is so hard to find..i still paid $600 for 2 nights..(with the parking and 2 high roller night tickets).</td>\n",
       "    </tr>\n",
       "    <tr>\n",
       "      <th>2</th>\n",
       "      <td>HgvyuUI3ZwLriVb5TxRGiw</td>\n",
       "      <td>2018-11-13 15:16:58</td>\n",
       "      <td>2.0</td>\n",
       "      <td>remodeled room looks nice, however it's still a standard room so nothing wrong with that. but there's no water in the room, a refgrigerator, yes but not even a bottle of water for me for my 3 night stay. so i have to make a trip to cvs or buy bottled water downstairs at an insane price, or drink tap water.\\n\\nthe internet cuts off consistently every 1-3 minutes. i do stock trading, streaming real time data and having those issues is unacceptable.\\n\\neverything else is good.</td>\n",
       "    </tr>\n",
       "    <tr>\n",
       "      <th>3</th>\n",
       "      <td>rrmE5bb7SlBLpalYq47cRQ</td>\n",
       "      <td>2018-11-13 08:23:08</td>\n",
       "      <td>1.0</td>\n",
       "      <td>i do not recommend this hotel. don't waste your money here. i was so disappointed with our stay. not to mention this was my husband and i's first time to vegas. we came to celebrate our anniversary. we booked a go fab room with high roller view. the view was the best part. the room was nice. however we had no hot water, the water pressure was very low, and the ac was not working. it was freezing cold in our room. after waiting a whole hour for maintenance to come check out the issues the assistant manager moved us to another so called updated room. we got absolutely no view. we were overlooking a ugly roof top. we got 2 beds which we did not need and the room was no where as near as nice as our first room. the shower curtain was dirty and stuck. but the heater &amp; shower worked so we made the best out of the rest of our stay. i will never book at this hotel again and i will not recommend it to anyone i know. don't book here!!</td>\n",
       "    </tr>\n",
       "    <tr>\n",
       "      <th>4</th>\n",
       "      <td>t4PwP6IqNwsUX-QovG2F5g</td>\n",
       "      <td>2018-11-13 01:52:25</td>\n",
       "      <td>1.0</td>\n",
       "      <td>currently staying here and our experience is ruined. booked the hotel over a month ago for an executive king room and we did not get what we asked or paid for and we were downgraded. walked into a 2 beds, with my boyfriend on our anniversary. we went downstairs to change our rooms and were told that the rooms aren't guaranteed so we asked to speak to a manager. we spoke to ron who should be fired. straight up told us we weren't important guests. he was absolutely horrible i had to walk away before we ended up getting kicked out, there was nothing they could do for us. gave us no money back but they have a room tomorrow. who wants to get up on there first night in vegas to switch rooms at 10am. the manager also said they deal with this stuff everyday ! if this is happening often then the policies should be fixed, and oh how about you dont overbook your hotel!!!!! we are frequent visitors in vegas but we will never come back, and we sure aren't spending our money here at the casinos or shops, we will go else were.</td>\n",
       "    </tr>\n",
       "  </tbody>\n",
       "</table>\n",
       "</div>"
      ],
      "text/plain": [
       "                review_id                date  stars  \\\n",
       "0  GNB1BM1nTsGaaaMyYAaIug 2018-11-14 00:18:42  3.0     \n",
       "1  OGrvQuS75fkiANviAplp0A 2018-11-13 23:30:44  5.0     \n",
       "2  HgvyuUI3ZwLriVb5TxRGiw 2018-11-13 15:16:58  2.0     \n",
       "3  rrmE5bb7SlBLpalYq47cRQ 2018-11-13 08:23:08  1.0     \n",
       "4  t4PwP6IqNwsUX-QovG2F5g 2018-11-13 01:52:25  1.0     \n",
       "\n",
       "                                                                                                                                                                                                                                                                                                                                                                                                                                                                                                                                                                                                                                                                                                                                                                                                                                                                                                                                                                                                                                                                  text  \n",
       "0  stayed here for 3 nights in one of their updated rooms.  i would give it a 5 for the view from our room.  we had a perfect view of the bellagio fountains.  the curtains in the room were really nice. they kept out all of the light and were controlled by switches next to the bed.  the room also had a nice size tv in front of the bed and another in the mirror in the bathroom. which we thought was interesting.  i liked the room cause we couldn't hear people in the hallway. \\n\\nthe room was not very clean when we arrived and it seemed like people left in a hurry.  the closet and drawers on the desk were left open.  the trash was not emptied. \\n\\nwe spent a lot of our time at the flamgino's day club at the pool.  you could get in for free with your room key. it was a ton of fun and they played great music.                                                                                                                                                                                                                          \n",
       "1  yes, the lobby is old and even the slot machines and games but for the price, then don't complain. i got the renovated rooms with strip view on the 22nd floor (habitat elevator). it was good having a guard/security before you go up the elevator at midnight to show your keycard that made me feel safe knowing that no random people can come up and knock on your door.. whew. i love the rooms, it was clean, the bathrooms have shampoo,conditioner, bodywash, lotion attached to the wall. no problems with the hot/cold water. it has a refrigerator which is so hard to find..i still paid $600 for 2 nights..(with the parking and 2 high roller night tickets).                                                                                                                                                                                                                                                                                                                                                                                        \n",
       "2  remodeled room looks nice, however it's still a standard room so nothing wrong with that. but there's no water in the room, a refgrigerator, yes but not even a bottle of water for me for my 3 night stay. so i have to make a trip to cvs or buy bottled water downstairs at an insane price, or drink tap water.\\n\\nthe internet cuts off consistently every 1-3 minutes. i do stock trading, streaming real time data and having those issues is unacceptable.\\n\\neverything else is good.                                                                                                                                                                                                                                                                                                                                                                                                                                                                                                                                                                       \n",
       "3  i do not recommend this hotel. don't waste your money here. i was so disappointed with our stay. not to mention this was my husband and i's first time to vegas. we came to celebrate our anniversary. we booked a go fab room with high roller view. the view was the best part. the room was nice. however we had no hot water, the water pressure was very low, and the ac was not working. it was freezing cold in our room. after waiting a whole hour for maintenance to come check out the issues the assistant manager moved us to another so called updated room. we got absolutely no view. we were overlooking a ugly roof top. we got 2 beds which we did not need and the room was no where as near as nice as our first room. the shower curtain was dirty and stuck. but the heater & shower worked so we made the best out of the rest of our stay. i will never book at this hotel again and i will not recommend it to anyone i know. don't book here!!                                                                                            \n",
       "4  currently staying here and our experience is ruined. booked the hotel over a month ago for an executive king room and we did not get what we asked or paid for and we were downgraded. walked into a 2 beds, with my boyfriend on our anniversary. we went downstairs to change our rooms and were told that the rooms aren't guaranteed so we asked to speak to a manager. we spoke to ron who should be fired. straight up told us we weren't important guests. he was absolutely horrible i had to walk away before we ended up getting kicked out, there was nothing they could do for us. gave us no money back but they have a room tomorrow. who wants to get up on there first night in vegas to switch rooms at 10am. the manager also said they deal with this stuff everyday ! if this is happening often then the policies should be fixed, and oh how about you dont overbook your hotel!!!!! we are frequent visitors in vegas but we will never come back, and we sure aren't spending our money here at the casinos or shops, we will go else were.  "
      ]
     },
     "execution_count": 84,
     "metadata": {},
     "output_type": "execute_result"
    }
   ],
   "source": [
    "df"
   ]
  },
  {
   "cell_type": "markdown",
   "metadata": {},
   "source": [
    "## Recent reviews from Yelp Elite"
   ]
  },
  {
   "cell_type": "code",
   "execution_count": 86,
   "metadata": {},
   "outputs": [],
   "source": [
    "try:    \n",
    "    with conn.cursor() as cur:\n",
    "        cur.execute(\"\"\"\n",
    "        select review_id, date, stars, text\n",
    "        from review r\n",
    "        where business_id = '{}'\n",
    "        and exists (select 1 \n",
    "                    from yelp_user_elite yue\n",
    "                    where r.user_id = yue.user_id and yue.year = 2018)\n",
    "        order by date desc\n",
    "        limit 5\n",
    "        \"\"\".format(business_id))\n",
    "                        \n",
    "        df = pd.DataFrame(cur.fetchall(),\n",
    "            columns = ['review_id', 'date', 'stars', 'text'])\n",
    "        \n",
    "except Exception as err:\n",
    "    print(\"Error: \", err)\n",
    "    conn.rollback()"
   ]
  },
  {
   "cell_type": "code",
   "execution_count": 87,
   "metadata": {},
   "outputs": [
    {
     "data": {
      "text/html": [
       "<div>\n",
       "<style scoped>\n",
       "    .dataframe tbody tr th:only-of-type {\n",
       "        vertical-align: middle;\n",
       "    }\n",
       "\n",
       "    .dataframe tbody tr th {\n",
       "        vertical-align: top;\n",
       "    }\n",
       "\n",
       "    .dataframe thead th {\n",
       "        text-align: right;\n",
       "    }\n",
       "</style>\n",
       "<table border=\"1\" class=\"dataframe\">\n",
       "  <thead>\n",
       "    <tr style=\"text-align: right;\">\n",
       "      <th></th>\n",
       "      <th>review_id</th>\n",
       "      <th>date</th>\n",
       "      <th>stars</th>\n",
       "      <th>text</th>\n",
       "    </tr>\n",
       "  </thead>\n",
       "  <tbody>\n",
       "    <tr>\n",
       "      <th>0</th>\n",
       "      <td>GNB1BM1nTsGaaaMyYAaIug</td>\n",
       "      <td>2018-11-14 00:18:42</td>\n",
       "      <td>3.0</td>\n",
       "      <td>stayed here for 3 nights in one of their updated rooms.  i would give it a 5 for the view from our room.  we had a perfect view of the bellagio fountains.  the curtains in the room were really nice. they kept out all of the light and were controlled by switches next to the bed.  the room also had a nice size tv in front of the bed and another in the mirror in the bathroom. which we thought was interesting.  i liked the room cause we couldn't hear people in the hallway. \\n\\nthe room was not very clean when we arrived and it seemed like people left in a hurry.  the closet and drawers on the desk were left open.  the trash was not emptied. \\n\\nwe spent a lot of our time at the flamgino's day club at the pool.  you could get in for free with your room key. it was a ton of fun and they played great music.</td>\n",
       "    </tr>\n",
       "    <tr>\n",
       "      <th>1</th>\n",
       "      <td>OGrvQuS75fkiANviAplp0A</td>\n",
       "      <td>2018-11-13 23:30:44</td>\n",
       "      <td>5.0</td>\n",
       "      <td>yes, the lobby is old and even the slot machines and games but for the price, then don't complain. i got the renovated rooms with strip view on the 22nd floor (habitat elevator). it was good having a guard/security before you go up the elevator at midnight to show your keycard that made me feel safe knowing that no random people can come up and knock on your door.. whew. i love the rooms, it was clean, the bathrooms have shampoo,conditioner, bodywash, lotion attached to the wall. no problems with the hot/cold water. it has a refrigerator which is so hard to find..i still paid $600 for 2 nights..(with the parking and 2 high roller night tickets).</td>\n",
       "    </tr>\n",
       "    <tr>\n",
       "      <th>2</th>\n",
       "      <td>t4PwP6IqNwsUX-QovG2F5g</td>\n",
       "      <td>2018-11-13 01:52:25</td>\n",
       "      <td>1.0</td>\n",
       "      <td>currently staying here and our experience is ruined. booked the hotel over a month ago for an executive king room and we did not get what we asked or paid for and we were downgraded. walked into a 2 beds, with my boyfriend on our anniversary. we went downstairs to change our rooms and were told that the rooms aren't guaranteed so we asked to speak to a manager. we spoke to ron who should be fired. straight up told us we weren't important guests. he was absolutely horrible i had to walk away before we ended up getting kicked out, there was nothing they could do for us. gave us no money back but they have a room tomorrow. who wants to get up on there first night in vegas to switch rooms at 10am. the manager also said they deal with this stuff everyday ! if this is happening often then the policies should be fixed, and oh how about you dont overbook your hotel!!!!! we are frequent visitors in vegas but we will never come back, and we sure aren't spending our money here at the casinos or shops, we will go else were.</td>\n",
       "    </tr>\n",
       "    <tr>\n",
       "      <th>3</th>\n",
       "      <td>xfv8C60xLMOzdQKALkvdOw</td>\n",
       "      <td>2018-11-07 22:12:53</td>\n",
       "      <td>4.0</td>\n",
       "      <td>recently stayed here for a trade show, had a \"go-room\" (updated room).  the view was the same, but the room was much cleaner, much more modern, and super comfortable.\\n\\nthe bed was noticeably better than the old rooms and the sheets were very clean.  i had hot water at all times of the day, and the cleaning staff was really good.\\n\\ni was upgraded because of my diamond status, the diamond lounge is a nice perk.  faster check in and the evening free drinks and hot appetizers was a nice treat.  overall, the experience was much better than 3 years ago.\\n\\ngambling was fun, most of the table limits were $10-15 and there is a nice variety of table games and modern slots.  the pool is great, but in the later months it can get chilly because it is in the shade almost 100% of the time.  i think that works great in the summer, but less so in the early-fall.\\n\\nyou can't beat the location with this hotel.  it's on the mono-rail, so this location is great for trade-shows.  the prices are reasonable, and if you get a \"go-room\" then you are really going to have a good time.  i will stay here again for sure.</td>\n",
       "    </tr>\n",
       "    <tr>\n",
       "      <th>4</th>\n",
       "      <td>hDEEI-eMyfSWpoKj8YjBsQ</td>\n",
       "      <td>2018-10-15 23:02:50</td>\n",
       "      <td>5.0</td>\n",
       "      <td>location, location! flamingo offers a great location on the strip! i typically hate vegas but was used to staying on the luxor/excalibur side so always having to take taxes or huge amounts of walking. pretty pricey for a saturday but it was worth it in the end. the room was super cool and nicely upgraded! i was we stayed more than one night. again, i hate vegas but the flamingo has started to change me around. i would definitely be staying here again!</td>\n",
       "    </tr>\n",
       "  </tbody>\n",
       "</table>\n",
       "</div>"
      ],
      "text/plain": [
       "                review_id                date  stars  \\\n",
       "0  GNB1BM1nTsGaaaMyYAaIug 2018-11-14 00:18:42  3.0     \n",
       "1  OGrvQuS75fkiANviAplp0A 2018-11-13 23:30:44  5.0     \n",
       "2  t4PwP6IqNwsUX-QovG2F5g 2018-11-13 01:52:25  1.0     \n",
       "3  xfv8C60xLMOzdQKALkvdOw 2018-11-07 22:12:53  4.0     \n",
       "4  hDEEI-eMyfSWpoKj8YjBsQ 2018-10-15 23:02:50  5.0     \n",
       "\n",
       "                                                                                                                                                                                                                                                                                                                                                                                                                                                                                                                                                                                                                                                                                                                                                                                                                                                                                                                                                                                                                                                                                                                                                       text  \n",
       "0  stayed here for 3 nights in one of their updated rooms.  i would give it a 5 for the view from our room.  we had a perfect view of the bellagio fountains.  the curtains in the room were really nice. they kept out all of the light and were controlled by switches next to the bed.  the room also had a nice size tv in front of the bed and another in the mirror in the bathroom. which we thought was interesting.  i liked the room cause we couldn't hear people in the hallway. \\n\\nthe room was not very clean when we arrived and it seemed like people left in a hurry.  the closet and drawers on the desk were left open.  the trash was not emptied. \\n\\nwe spent a lot of our time at the flamgino's day club at the pool.  you could get in for free with your room key. it was a ton of fun and they played great music.                                                                                                                                                                                                                                                                                                               \n",
       "1  yes, the lobby is old and even the slot machines and games but for the price, then don't complain. i got the renovated rooms with strip view on the 22nd floor (habitat elevator). it was good having a guard/security before you go up the elevator at midnight to show your keycard that made me feel safe knowing that no random people can come up and knock on your door.. whew. i love the rooms, it was clean, the bathrooms have shampoo,conditioner, bodywash, lotion attached to the wall. no problems with the hot/cold water. it has a refrigerator which is so hard to find..i still paid $600 for 2 nights..(with the parking and 2 high roller night tickets).                                                                                                                                                                                                                                                                                                                                                                                                                                                                             \n",
       "2  currently staying here and our experience is ruined. booked the hotel over a month ago for an executive king room and we did not get what we asked or paid for and we were downgraded. walked into a 2 beds, with my boyfriend on our anniversary. we went downstairs to change our rooms and were told that the rooms aren't guaranteed so we asked to speak to a manager. we spoke to ron who should be fired. straight up told us we weren't important guests. he was absolutely horrible i had to walk away before we ended up getting kicked out, there was nothing they could do for us. gave us no money back but they have a room tomorrow. who wants to get up on there first night in vegas to switch rooms at 10am. the manager also said they deal with this stuff everyday ! if this is happening often then the policies should be fixed, and oh how about you dont overbook your hotel!!!!! we are frequent visitors in vegas but we will never come back, and we sure aren't spending our money here at the casinos or shops, we will go else were.                                                                                       \n",
       "3  recently stayed here for a trade show, had a \"go-room\" (updated room).  the view was the same, but the room was much cleaner, much more modern, and super comfortable.\\n\\nthe bed was noticeably better than the old rooms and the sheets were very clean.  i had hot water at all times of the day, and the cleaning staff was really good.\\n\\ni was upgraded because of my diamond status, the diamond lounge is a nice perk.  faster check in and the evening free drinks and hot appetizers was a nice treat.  overall, the experience was much better than 3 years ago.\\n\\ngambling was fun, most of the table limits were $10-15 and there is a nice variety of table games and modern slots.  the pool is great, but in the later months it can get chilly because it is in the shade almost 100% of the time.  i think that works great in the summer, but less so in the early-fall.\\n\\nyou can't beat the location with this hotel.  it's on the mono-rail, so this location is great for trade-shows.  the prices are reasonable, and if you get a \"go-room\" then you are really going to have a good time.  i will stay here again for sure.  \n",
       "4  location, location! flamingo offers a great location on the strip! i typically hate vegas but was used to staying on the luxor/excalibur side so always having to take taxes or huge amounts of walking. pretty pricey for a saturday but it was worth it in the end. the room was super cool and nicely upgraded! i was we stayed more than one night. again, i hate vegas but the flamingo has started to change me around. i would definitely be staying here again!                                                                                                                                                                                                                                                                                                                                                                                                                                                                                                                                                                                                                                                                                   "
      ]
     },
     "execution_count": 87,
     "metadata": {},
     "output_type": "execute_result"
    }
   ],
   "source": [
    "df"
   ]
  },
  {
   "cell_type": "markdown",
   "metadata": {},
   "source": [
    "## Most frequently used words"
   ]
  },
  {
   "cell_type": "code",
   "execution_count": 88,
   "metadata": {},
   "outputs": [],
   "source": [
    "try:    \n",
    "    with conn.cursor() as cur:\n",
    "        cur.execute(\"\"\"\n",
    "        select rt.word, count(*)\n",
    "        from review r\n",
    "        inner join review_text rt on r.review_id = rt.review_id\n",
    "        where r.business_id = '{}'\n",
    "        group by rt.word\n",
    "        order by 2 desc\n",
    "        limit 5\n",
    "        \"\"\".format(business_id))\n",
    "                        \n",
    "        df = pd.DataFrame(cur.fetchall(),\n",
    "            columns = ['word', 'count'])\n",
    "        \n",
    "except Exception as err:\n",
    "    print(\"Error: \", err)\n",
    "    conn.rollback()"
   ]
  },
  {
   "cell_type": "code",
   "execution_count": 89,
   "metadata": {},
   "outputs": [
    {
     "data": {
      "text/html": [
       "<div>\n",
       "<style scoped>\n",
       "    .dataframe tbody tr th:only-of-type {\n",
       "        vertical-align: middle;\n",
       "    }\n",
       "\n",
       "    .dataframe tbody tr th {\n",
       "        vertical-align: top;\n",
       "    }\n",
       "\n",
       "    .dataframe thead th {\n",
       "        text-align: right;\n",
       "    }\n",
       "</style>\n",
       "<table border=\"1\" class=\"dataframe\">\n",
       "  <thead>\n",
       "    <tr style=\"text-align: right;\">\n",
       "      <th></th>\n",
       "      <th>word</th>\n",
       "      <th>count</th>\n",
       "    </tr>\n",
       "  </thead>\n",
       "  <tbody>\n",
       "    <tr>\n",
       "      <th>0</th>\n",
       "      <td>wa</td>\n",
       "      <td>12524</td>\n",
       "    </tr>\n",
       "    <tr>\n",
       "      <th>1</th>\n",
       "      <td>room</td>\n",
       "      <td>10380</td>\n",
       "    </tr>\n",
       "    <tr>\n",
       "      <th>2</th>\n",
       "      <td>hotel</td>\n",
       "      <td>4888</td>\n",
       "    </tr>\n",
       "    <tr>\n",
       "      <th>3</th>\n",
       "      <td>flamingo</td>\n",
       "      <td>3114</td>\n",
       "    </tr>\n",
       "    <tr>\n",
       "      <th>4</th>\n",
       "      <td>stay</td>\n",
       "      <td>2589</td>\n",
       "    </tr>\n",
       "  </tbody>\n",
       "</table>\n",
       "</div>"
      ],
      "text/plain": [
       "       word  count\n",
       "0  wa        12524\n",
       "1  room      10380\n",
       "2  hotel     4888 \n",
       "3  flamingo  3114 \n",
       "4  stay      2589 "
      ]
     },
     "execution_count": 89,
     "metadata": {},
     "output_type": "execute_result"
    }
   ],
   "source": [
    "df"
   ]
  },
  {
   "cell_type": "markdown",
   "metadata": {},
   "source": [
    "## Most frequently used words from negative reviews"
   ]
  },
  {
   "cell_type": "code",
   "execution_count": 90,
   "metadata": {},
   "outputs": [],
   "source": [
    "try:    \n",
    "    with conn.cursor() as cur:\n",
    "        cur.execute(\"\"\"\n",
    "        select rt.word, count(*)\n",
    "        from review r\n",
    "        inner join review_text rt on r.review_id = rt.review_id\n",
    "        where r.business_id = '{}' and r.sentiment = 'POSITIVE'\n",
    "        group by rt.word\n",
    "        order by 2 desc\n",
    "        limit 5\n",
    "        \"\"\".format(business_id))\n",
    "                        \n",
    "        df = pd.DataFrame(cur.fetchall(),\n",
    "            columns = ['word', 'count'])\n",
    "        \n",
    "except Exception as err:\n",
    "    print(\"Error: \", err)\n",
    "    conn.rollback()"
   ]
  },
  {
   "cell_type": "code",
   "execution_count": 91,
   "metadata": {},
   "outputs": [
    {
     "data": {
      "text/html": [
       "<div>\n",
       "<style scoped>\n",
       "    .dataframe tbody tr th:only-of-type {\n",
       "        vertical-align: middle;\n",
       "    }\n",
       "\n",
       "    .dataframe tbody tr th {\n",
       "        vertical-align: top;\n",
       "    }\n",
       "\n",
       "    .dataframe thead th {\n",
       "        text-align: right;\n",
       "    }\n",
       "</style>\n",
       "<table border=\"1\" class=\"dataframe\">\n",
       "  <thead>\n",
       "    <tr style=\"text-align: right;\">\n",
       "      <th></th>\n",
       "      <th>word</th>\n",
       "      <th>count</th>\n",
       "    </tr>\n",
       "  </thead>\n",
       "  <tbody>\n",
       "    <tr>\n",
       "      <th>0</th>\n",
       "      <td>wa</td>\n",
       "      <td>8530</td>\n",
       "    </tr>\n",
       "    <tr>\n",
       "      <th>1</th>\n",
       "      <td>room</td>\n",
       "      <td>6898</td>\n",
       "    </tr>\n",
       "    <tr>\n",
       "      <th>2</th>\n",
       "      <td>hotel</td>\n",
       "      <td>3262</td>\n",
       "    </tr>\n",
       "    <tr>\n",
       "      <th>3</th>\n",
       "      <td>flamingo</td>\n",
       "      <td>2419</td>\n",
       "    </tr>\n",
       "    <tr>\n",
       "      <th>4</th>\n",
       "      <td>pool</td>\n",
       "      <td>1799</td>\n",
       "    </tr>\n",
       "  </tbody>\n",
       "</table>\n",
       "</div>"
      ],
      "text/plain": [
       "       word  count\n",
       "0  wa        8530 \n",
       "1  room      6898 \n",
       "2  hotel     3262 \n",
       "3  flamingo  2419 \n",
       "4  pool      1799 "
      ]
     },
     "execution_count": 91,
     "metadata": {},
     "output_type": "execute_result"
    }
   ],
   "source": [
    "df"
   ]
  },
  {
   "cell_type": "markdown",
   "metadata": {},
   "source": [
    "## Most frequently used words from positive reviews"
   ]
  },
  {
   "cell_type": "code",
   "execution_count": 92,
   "metadata": {},
   "outputs": [],
   "source": [
    "try:    \n",
    "    with conn.cursor() as cur:\n",
    "        cur.execute(\"\"\"\n",
    "        select rt.word, count(*)\n",
    "        from review r\n",
    "        inner join review_text rt on r.review_id = rt.review_id\n",
    "        where r.business_id = '{}' and r.sentiment = 'NEGATIVE'\n",
    "        group by rt.word\n",
    "        order by 2 desc\n",
    "        limit 5\n",
    "        \"\"\".format(business_id))\n",
    "                        \n",
    "        df = pd.DataFrame(cur.fetchall(),\n",
    "            columns = ['word', 'count'])\n",
    "        \n",
    "except Exception as err:\n",
    "    print(\"Error: \", err)\n",
    "    conn.rollback()"
   ]
  },
  {
   "cell_type": "code",
   "execution_count": 93,
   "metadata": {},
   "outputs": [
    {
     "data": {
      "text/html": [
       "<div>\n",
       "<style scoped>\n",
       "    .dataframe tbody tr th:only-of-type {\n",
       "        vertical-align: middle;\n",
       "    }\n",
       "\n",
       "    .dataframe tbody tr th {\n",
       "        vertical-align: top;\n",
       "    }\n",
       "\n",
       "    .dataframe thead th {\n",
       "        text-align: right;\n",
       "    }\n",
       "</style>\n",
       "<table border=\"1\" class=\"dataframe\">\n",
       "  <thead>\n",
       "    <tr style=\"text-align: right;\">\n",
       "      <th></th>\n",
       "      <th>word</th>\n",
       "      <th>count</th>\n",
       "    </tr>\n",
       "  </thead>\n",
       "  <tbody>\n",
       "    <tr>\n",
       "      <th>0</th>\n",
       "      <td>wa</td>\n",
       "      <td>3920</td>\n",
       "    </tr>\n",
       "    <tr>\n",
       "      <th>1</th>\n",
       "      <td>room</td>\n",
       "      <td>3421</td>\n",
       "    </tr>\n",
       "    <tr>\n",
       "      <th>2</th>\n",
       "      <td>hotel</td>\n",
       "      <td>1607</td>\n",
       "    </tr>\n",
       "    <tr>\n",
       "      <th>3</th>\n",
       "      <td>stay</td>\n",
       "      <td>816</td>\n",
       "    </tr>\n",
       "    <tr>\n",
       "      <th>4</th>\n",
       "      <td>get</td>\n",
       "      <td>807</td>\n",
       "    </tr>\n",
       "  </tbody>\n",
       "</table>\n",
       "</div>"
      ],
      "text/plain": [
       "    word  count\n",
       "0  wa     3920 \n",
       "1  room   3421 \n",
       "2  hotel  1607 \n",
       "3  stay   816  \n",
       "4  get    807  "
      ]
     },
     "execution_count": 93,
     "metadata": {},
     "output_type": "execute_result"
    }
   ],
   "source": [
    "df"
   ]
  },
  {
   "cell_type": "markdown",
   "metadata": {},
   "source": [
    "## Most frequently used words in my categories"
   ]
  },
  {
   "cell_type": "code",
   "execution_count": 99,
   "metadata": {},
   "outputs": [],
   "source": [
    "try:    \n",
    "    with conn.cursor() as cur:\n",
    "        cur.execute(\"\"\"\n",
    "        select rt.word, count(*)\n",
    "        from review r\n",
    "        inner join review_text rt on r.review_id = rt.review_id\n",
    "        where exists (select 1 \n",
    "        from business_category bc\n",
    "        where bc.business_id = r.business_id\n",
    "        and bc.category in (select category from business_category where business_id = '{}'))\n",
    "        and business_id != '{}'\n",
    "        group by rt.word\n",
    "        order by 2 desc\n",
    "        limit 5\n",
    "        \"\"\".format(business_id, business_id))\n",
    "                        \n",
    "        df = pd.DataFrame(cur.fetchall(),\n",
    "            columns = ['word', 'count'])\n",
    "        \n",
    "except Exception as err:\n",
    "    print(\"Error: \", err)\n",
    "    conn.rollback()"
   ]
  },
  {
   "cell_type": "code",
   "execution_count": 100,
   "metadata": {},
   "outputs": [
    {
     "data": {
      "text/html": [
       "<div>\n",
       "<style scoped>\n",
       "    .dataframe tbody tr th:only-of-type {\n",
       "        vertical-align: middle;\n",
       "    }\n",
       "\n",
       "    .dataframe tbody tr th {\n",
       "        vertical-align: top;\n",
       "    }\n",
       "\n",
       "    .dataframe thead th {\n",
       "        text-align: right;\n",
       "    }\n",
       "</style>\n",
       "<table border=\"1\" class=\"dataframe\">\n",
       "  <thead>\n",
       "    <tr style=\"text-align: right;\">\n",
       "      <th></th>\n",
       "      <th>word</th>\n",
       "      <th>count</th>\n",
       "    </tr>\n",
       "  </thead>\n",
       "  <tbody>\n",
       "    <tr>\n",
       "      <th>0</th>\n",
       "      <td>wa</td>\n",
       "      <td>1724445</td>\n",
       "    </tr>\n",
       "    <tr>\n",
       "      <th>1</th>\n",
       "      <td>room</td>\n",
       "      <td>411374</td>\n",
       "    </tr>\n",
       "    <tr>\n",
       "      <th>2</th>\n",
       "      <td>place</td>\n",
       "      <td>382369</td>\n",
       "    </tr>\n",
       "    <tr>\n",
       "      <th>3</th>\n",
       "      <td>time</td>\n",
       "      <td>382365</td>\n",
       "    </tr>\n",
       "    <tr>\n",
       "      <th>4</th>\n",
       "      <td>great</td>\n",
       "      <td>363793</td>\n",
       "    </tr>\n",
       "  </tbody>\n",
       "</table>\n",
       "</div>"
      ],
      "text/plain": [
       "    word    count\n",
       "0  wa     1724445\n",
       "1  room   411374 \n",
       "2  place  382369 \n",
       "3  time   382365 \n",
       "4  great  363793 "
      ]
     },
     "execution_count": 100,
     "metadata": {},
     "output_type": "execute_result"
    }
   ],
   "source": [
    "df"
   ]
  },
  {
   "cell_type": "code",
   "execution_count": null,
   "metadata": {},
   "outputs": [],
   "source": []
  },
  {
   "cell_type": "code",
   "execution_count": null,
   "metadata": {},
   "outputs": [],
   "source": []
  },
  {
   "cell_type": "code",
   "execution_count": null,
   "metadata": {},
   "outputs": [],
   "source": []
  }
 ],
 "metadata": {
  "kernelspec": {
   "display_name": "Python 3",
   "language": "python",
   "name": "python3"
  },
  "language_info": {
   "codemirror_mode": {
    "name": "ipython",
    "version": 3
   },
   "file_extension": ".py",
   "mimetype": "text/x-python",
   "name": "python",
   "nbconvert_exporter": "python",
   "pygments_lexer": "ipython3",
   "version": "3.6.3"
  }
 },
 "nbformat": 4,
 "nbformat_minor": 4
}
